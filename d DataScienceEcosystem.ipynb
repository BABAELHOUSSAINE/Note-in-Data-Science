{
 "cells": [
  {
   "cell_type": "markdown",
   "id": "a9f0a9c6-4db5-4a0c-bf17-5cb934f1f101",
   "metadata": {},
   "source": [
    "### Data Science Tools and Ecosystem\n"
   ]
  },
  {
   "cell_type": "markdown",
   "id": "21c8cca9-0812-4ecc-a182-74b69d211a26",
   "metadata": {},
   "source": [
    "In this notebook, Data Science Tools and Ecosystem are summarized"
   ]
  },
  {
   "cell_type": "markdown",
   "id": "6108196a-2bf1-4a1d-8b12-f375d94246f7",
   "metadata": {},
   "source": [
    "Some of the popular languages that Data Scientists use are:\\\n",
    "$1$-Python\\\n",
    "$2$-R\\\n",
    "$3$-Sql"
   ]
  },
  {
   "cell_type": "markdown",
   "id": "5cb456eb-c08b-4a3f-a579-07329ec9304b",
   "metadata": {},
   "source": [
    "\n",
    " \n",
    " Some of the commonly used libraries used by Data Scientists include:\\\n",
    "$1$ numpy\\\n",
    "$2$ Scikit-learn\\\n",
    "$3$ Seaborn\\\n",
    "$4$ Keras\\\n",
    "$5$ SciPy \n",
    "$6$ XGBoost "
   ]
  },
  {
   "cell_type": "markdown",
   "id": "913df222-bcc8-4684-b3c1-7eca649754df",
   "metadata": {},
   "source": [
    "\n",
    "\n",
    "1. **Scikit-learn** - A machine learning library that includes tools for classification, regression, clustering, and dimensionality reduction.\n",
    "2. **Seaborn** - A data visualization library built on top of Matplotlib, providing a high-level interface for drawing attractive and informative statistical graphics.\n",
    "3. **TensorFlow** - An open-source library used for machine learning and deep learning, especially for building and training neural networks.\n",
    "4. **Keras** - A high-level neural networks API, running on top of TensorFlow, that enables fast experimentation with deep learning models.\n",
    "5. **SciPy** - Builds on NumPy and provides additional functionality for scientific and technical computing, including optimization, integration, interpolation, and statistics.\n"
   ]
  },
  {
   "cell_type": "markdown",
   "id": "1bfad57c-6c2b-470a-88d3-9ec1496e4cef",
   "metadata": {},
   "source": [
    "| Data Science Tools            |\n",
    "|-------------------------------|\n",
    "| Jupyter Notebook               |\n",
    "| RStudio                        |\n",
    "| Visual Studio Code (VS Code)   |\n",
    "\n"
   ]
  },
  {
   "cell_type": "markdown",
   "id": "985d6d3b-861e-4653-b976-f4ccde57ceca",
   "metadata": {},
   "source": [
    "### Below are a few examples of evaluating arithmetic expressions in Python.\n"
   ]
  },
  {
   "cell_type": "code",
   "execution_count": 9,
   "id": "7bd4f66a-4faf-4daf-9e06-28d5b9fd997b",
   "metadata": {},
   "outputs": [
    {
     "data": {
      "text/plain": [
       "17"
      ]
     },
     "execution_count": 9,
     "metadata": {},
     "output_type": "execute_result"
    }
   ],
   "source": [
    "# the is a simple exemple to multiply then add integers \n",
    "(3*4)+5"
   ]
  },
  {
   "cell_type": "code",
   "execution_count": 11,
   "id": "7d78faec-23f9-4efd-bd44-a96833c60ab3",
   "metadata": {},
   "outputs": [
    {
     "data": {
      "text/plain": [
       "3.3333333333333335"
      ]
     },
     "execution_count": 11,
     "metadata": {},
     "output_type": "execute_result"
    }
   ],
   "source": [
    "# This will convert 200 minutes to hours by dividing by 60\n",
    "hours = 200 / 60\n",
    "hours\n"
   ]
  },
  {
   "cell_type": "markdown",
   "id": "7886908e-4899-423c-b5dc-df4b4edaf9bb",
   "metadata": {},
   "source": [
    "**Objectives**\n",
    "  \n",
    "- List Popular languages of Data Science\n",
    "- Indentify commanly used library\n",
    "- Demonstrate Exemple of arithmetic expressions in Python \n",
    "- Understand developement for Data Science Environement \n",
    "- Convert Units of time (e.g. , minute to hours) using Python "
   ]
  },
  {
   "cell_type": "markdown",
   "id": "daa01920-e44c-46f8-afc7-840324eb06d7",
   "metadata": {
    "jp-MarkdownHeadingCollapsed": true
   },
   "source": [
    "## Author\n",
    "\n",
    "Elhoussaine Gangouch\n",
    "\n"
   ]
  }
 ],
 "metadata": {
  "kernelspec": {
   "display_name": "Python 3 (ipykernel)",
   "language": "python",
   "name": "python3"
  },
  "language_info": {
   "codemirror_mode": {
    "name": "ipython",
    "version": 3
   },
   "file_extension": ".py",
   "mimetype": "text/x-python",
   "name": "python",
   "nbconvert_exporter": "python",
   "pygments_lexer": "ipython3",
   "version": "3.11.7"
  }
 },
 "nbformat": 4,
 "nbformat_minor": 5
}
